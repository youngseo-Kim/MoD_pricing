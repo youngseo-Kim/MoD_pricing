{
 "cells": [
  {
   "cell_type": "code",
   "execution_count": 1,
   "metadata": {},
   "outputs": [],
   "source": [
    "import pandas as pd\n",
    "import numpy as np\n",
    "import random\n"
   ]
  },
  {
   "cell_type": "code",
   "execution_count": 2,
   "metadata": {},
   "outputs": [],
   "source": [
    "\n",
    "def generate_demand(od_data):\n",
    "    \"\"\"\n",
    "    randomly generate agent with weighted sampling\n",
    "    \"\"\"\n",
    "\n",
    "    # Step 1: Calculate the total demand from the original dataset\n",
    "    total_demand = od_data['Ton'].sum()\n",
    "\n",
    "    # Step 2: Create dictionaries with the total demand from each origin and destination\n",
    "    origin_demand = od_data.groupby('O')['Ton'].sum().to_dict()\n",
    "    destination_demand = od_data.groupby('D')['Ton'].sum().to_dict()\n",
    "\n",
    "    # Normalize the demands to get probabilities\n",
    "    total_origin_demand = sum(origin_demand.values())\n",
    "    total_destination_demand = sum(destination_demand.values())\n",
    "\n",
    "    assert total_origin_demand == total_destination_demand\n",
    "\n",
    "    origin_probabilities = {o: d / total_origin_demand for o, d in origin_demand.items()}\n",
    "    destination_probabilities = {d: dmd / total_destination_demand for d, dmd in destination_demand.items()}\n",
    "    \n",
    "\n",
    "    # Step 3: Generate a new dataset\n",
    "    new_data = []\n",
    "\n",
    "    for _ in range(int(total_demand)):\n",
    "        # Select origin based on weighted probability\n",
    "        origin = np.random.choice(list(origin_probabilities.keys()), p=list(origin_probabilities.values()))\n",
    "        \n",
    "        # Select destination - 70% chance to be either 21, 22, 23, 24\n",
    "        if random.random() < 0.7:\n",
    "            destination = random.choice([21, 22, 23, 24])\n",
    "        else:\n",
    "            destination = np.random.choice(list(destination_probabilities.keys()), p=list(destination_probabilities.values()))\n",
    "        \n",
    "        # Assuming each entry in the new dataset has a demand of 1 to match the total demand\n",
    "        new_data.append([origin, destination, 1])\n",
    "\n",
    "    # Convert the new data into a DataFrame\n",
    "    new_od_data = pd.DataFrame(new_data, columns=['O', 'D', 'Ton'])\n",
    "\n",
    "    # Aggregate the demand for the same origin to destination pairs\n",
    "    aggregated_od_data = new_od_data.groupby(['O', 'D']).count().reset_index()\n",
    "    return aggregated_od_data\n",
    "\n",
    "\n",
    "\n"
   ]
  },
  {
   "cell_type": "code",
   "execution_count": 3,
   "metadata": {},
   "outputs": [],
   "source": [
    "# Load the uploaded OD demand file\n",
    "dataset = \"SiouxFalls\"\n",
    "od_data = pd.read_csv(\"../data/{}/{}_od.csv\".format(dataset, dataset))\n",
    "\n",
    "od_df = generate_demand(od_data)"
   ]
  },
  {
   "cell_type": "code",
   "execution_count": 4,
   "metadata": {},
   "outputs": [
    {
     "data": {
      "text/html": [
       "<div>\n",
       "<style scoped>\n",
       "    .dataframe tbody tr th:only-of-type {\n",
       "        vertical-align: middle;\n",
       "    }\n",
       "\n",
       "    .dataframe tbody tr th {\n",
       "        vertical-align: top;\n",
       "    }\n",
       "\n",
       "    .dataframe thead th {\n",
       "        text-align: right;\n",
       "    }\n",
       "</style>\n",
       "<table border=\"1\" class=\"dataframe\">\n",
       "  <thead>\n",
       "    <tr style=\"text-align: right;\">\n",
       "      <th></th>\n",
       "      <th>O</th>\n",
       "      <th>D</th>\n",
       "      <th>Ton</th>\n",
       "    </tr>\n",
       "  </thead>\n",
       "  <tbody>\n",
       "    <tr>\n",
       "      <th>0</th>\n",
       "      <td>1</td>\n",
       "      <td>1</td>\n",
       "      <td>52</td>\n",
       "    </tr>\n",
       "    <tr>\n",
       "      <th>1</th>\n",
       "      <td>1</td>\n",
       "      <td>2</td>\n",
       "      <td>29</td>\n",
       "    </tr>\n",
       "    <tr>\n",
       "      <th>2</th>\n",
       "      <td>1</td>\n",
       "      <td>3</td>\n",
       "      <td>25</td>\n",
       "    </tr>\n",
       "    <tr>\n",
       "      <th>3</th>\n",
       "      <td>1</td>\n",
       "      <td>4</td>\n",
       "      <td>76</td>\n",
       "    </tr>\n",
       "    <tr>\n",
       "      <th>4</th>\n",
       "      <td>1</td>\n",
       "      <td>5</td>\n",
       "      <td>47</td>\n",
       "    </tr>\n",
       "    <tr>\n",
       "      <th>...</th>\n",
       "      <td>...</td>\n",
       "      <td>...</td>\n",
       "      <td>...</td>\n",
       "    </tr>\n",
       "    <tr>\n",
       "      <th>571</th>\n",
       "      <td>24</td>\n",
       "      <td>20</td>\n",
       "      <td>110</td>\n",
       "    </tr>\n",
       "    <tr>\n",
       "      <th>572</th>\n",
       "      <td>24</td>\n",
       "      <td>21</td>\n",
       "      <td>1414</td>\n",
       "    </tr>\n",
       "    <tr>\n",
       "      <th>573</th>\n",
       "      <td>24</td>\n",
       "      <td>22</td>\n",
       "      <td>1578</td>\n",
       "    </tr>\n",
       "    <tr>\n",
       "      <th>574</th>\n",
       "      <td>24</td>\n",
       "      <td>23</td>\n",
       "      <td>1482</td>\n",
       "    </tr>\n",
       "    <tr>\n",
       "      <th>575</th>\n",
       "      <td>24</td>\n",
       "      <td>24</td>\n",
       "      <td>1357</td>\n",
       "    </tr>\n",
       "  </tbody>\n",
       "</table>\n",
       "<p>576 rows × 3 columns</p>\n",
       "</div>"
      ],
      "text/plain": [
       "      O   D   Ton\n",
       "0     1   1    52\n",
       "1     1   2    29\n",
       "2     1   3    25\n",
       "3     1   4    76\n",
       "4     1   5    47\n",
       "..   ..  ..   ...\n",
       "571  24  20   110\n",
       "572  24  21  1414\n",
       "573  24  22  1578\n",
       "574  24  23  1482\n",
       "575  24  24  1357\n",
       "\n",
       "[576 rows x 3 columns]"
      ]
     },
     "execution_count": 4,
     "metadata": {},
     "output_type": "execute_result"
    }
   ],
   "source": [
    "od_df"
   ]
  },
  {
   "cell_type": "code",
   "execution_count": 5,
   "metadata": {},
   "outputs": [],
   "source": [
    "import matplotlib.pyplot as plt\n",
    "import seaborn as sns\n",
    "def plot_od_heatmap(df, value_column, title, cmap='Reds', save_path=None, figsize=(10, 8), annot=False):\n",
    "    \"\"\"\n",
    "    This function plots and saves a heatmap for an OD matrix.\n",
    "\n",
    "    Parameters:\n",
    "    - df: DataFrame containing the OD data.\n",
    "    - value_column: The name of the column in df that contains the values to plot.\n",
    "    - title: Title for the heatmap.\n",
    "    - cmap: Colormap to be used for heatmap.\n",
    "    - save_path: Path to save the figure (including the filename).\n",
    "    - figsize: Size of the figure.\n",
    "    - annot: If True, the values will be shown on the heatmap.\n",
    "    \"\"\"\n",
    "    # Pivot the table to get a matrix where index is 'O', columns are 'D', and cell values are the specified 'value_column'\n",
    "    od_matrix_pivot = df.pivot(index='O', columns='D', values=value_column).fillna(0)\n",
    "\n",
    "    # Plotting the heatmap\n",
    "    plt.figure(figsize=figsize)\n",
    "    heatmap = sns.heatmap(od_matrix_pivot, cmap=cmap, linewidths=.5, annot=annot)\n",
    "    plt.title(title)\n",
    "    plt.xlabel('Destination Node ID')\n",
    "    plt.ylabel('Origin Node ID')\n",
    "\n",
    "    # If a save path is provided, save the figure\n",
    "    if save_path:\n",
    "        plt.savefig(save_path)\n",
    "\n",
    "    # Show the heatmap\n",
    "    plt.show()\n",
    "\n",
    "# Example usage:\n",
    "# Assuming od_df is a DataFrame with the OD data and 'Ton' column as values.\n",
    "# plot_od_heatmap(od_df, 'Ton', 'OD Matrix Heatmap', save_path='/mnt/data/od_matrix_heatmap.pdf')\n"
   ]
  },
  {
   "cell_type": "code",
   "execution_count": 6,
   "metadata": {},
   "outputs": [
    {
     "data": {
      "image/png": "[encoded data removed]",
      "text/plain": [
       "<Figure size 720x576 with 2 Axes>"
      ]
     },
     "metadata": {
      "needs_background": "light"
     },
     "output_type": "display_data"
    }
   ],
   "source": [
    "plot_od_heatmap(od_df, 'Ton', 'OD Matrix Heatmap', save_path='../figures/od_matrix_heatmap.pdf', annot=False)\n"
   ]
  },
  {
   "cell_type": "code",
   "execution_count": 7,
   "metadata": {},
   "outputs": [],
   "source": [
    "od_df.to_csv(\"../data/SiouxFalls/SiouxFalls_od_dist2.csv\", index=False)"
   ]
  }
 ],
 "metadata": {
  "kernelspec": {
   "display_name": "rollinghorizon",
   "language": "python",
   "name": "python3"
  },
  "language_info": {
   "codemirror_mode": {
    "name": "ipython",
    "version": 3
   },
   "file_extension": ".py",
   "mimetype": "text/x-python",
   "name": "python",
   "nbconvert_exporter": "python",
   "pygments_lexer": "ipython3",
   "version": "3.6.9"
  }
 },
 "nbformat": 4,
 "nbformat_minor": 2
}
