{
 "cells": [
  {
   "cell_type": "code",
   "execution_count": 132,
   "metadata": {},
   "outputs": [
    {
     "data": {
      "text/plain": [
       "'\\nimplementation of solving profit maximization problem\\nauthor(s): \\nyk796@cornell.edu\\n'"
      ]
     },
     "execution_count": 132,
     "metadata": {},
     "output_type": "execute_result"
    }
   ],
   "source": [
    "import gurobipy as gp\n",
    "import itertools as it\n",
    "\n",
    "\"\"\"\n",
    "implementation of solving profit maximization problem\n",
    "author(s): \n",
    "yk796@cornell.edu\n",
    "\"\"\""
   ]
  },
  {
   "cell_type": "code",
   "execution_count": 133,
   "metadata": {},
   "outputs": [
    {
     "data": {
      "text/plain": [
       "[(1, 2), (1, 3), (1, 4), (2, 1), (2, 3), (2, 4), (3, 2), (4, 2)]"
      ]
     },
     "execution_count": 133,
     "metadata": {},
     "output_type": "execute_result"
    }
   ],
   "source": [
    "# input\n",
    "n_nodes = 4\n",
    "n_alternative = 3\n",
    "O_demand = [1, 2, 0, 0]\n",
    "D_demand = [0, 3, 0, 0]\n",
    "assert sum(O_demand) == sum(D_demand)\n",
    "bpr_a = 2\n",
    "bpr_b = 3\n",
    "\n",
    "nodes = list(range(1, n_nodes+1))\n",
    "alternatives = list(range(1, n_alternative+1))\n",
    "arcs = list(it.permutations(nodes, 2))\n",
    "#ods = list(it.permutations(nodes, 2))\n",
    "ods = [(id1+1, id2+1) for id1, o in enumerate(O_demand) for id2, d in enumerate(D_demand) if o>0 or d>0 if id1 != id2]\n",
    "b = {key:2 for key in list(it.product(ods, alternatives))}\n",
    "ods"
   ]
  },
  {
   "cell_type": "code",
   "execution_count": 134,
   "metadata": {},
   "outputs": [
    {
     "name": "stdout",
     "output_type": "stream",
     "text": [
      "Set parameter DualReductions to value 0\n",
      "Gurobi Optimizer version 10.0.1 build v10.0.1rc0 (linux64)\n",
      "\n",
      "CPU model: Intel(R) Xeon(R) Gold 6244 CPU @ 3.60GHz, instruction set [SSE2|AVX|AVX2|AVX512]\n",
      "Thread count: 16 physical cores, 32 logical processors, using up to 32 threads\n",
      "\n",
      "Optimize a model with 93 rows, 362 columns and 997 nonzeros\n",
      "Model fingerprint: 0x17a8ac04\n",
      "Model has 24 quadratic objective terms\n",
      "Model has 12 quadratic constraints\n",
      "Model has 25 general constraints\n",
      "Variable types: 362 continuous, 0 integer (0 binary)\n",
      "Coefficient statistics:\n",
      "  Matrix range     [1e-01, 1e+00]\n",
      "  QMatrix range    [1e+00, 1e+00]\n",
      "  QLMatrix range   [1e+00, 3e+00]\n",
      "  Objective range  [1e+00, 2e+00]\n",
      "  QObjective range [2e+00, 2e+00]\n",
      "  Bounds range     [0e+00, 0e+00]\n",
      "  RHS range        [1e+00, 3e+00]\n",
      "Presolve removed 57 rows and 243 columns\n",
      "Presolve time: 0.00s\n",
      "\n",
      "Explored 0 nodes (0 simplex iterations) in 0.01 seconds (0.00 work units)\n",
      "Thread count was 1 (of 32 available processors)\n",
      "\n",
      "Solution count 0\n",
      "\n",
      "Model is infeasible\n",
      "Best objective -, best bound -, gap -\n",
      "\n",
      "Computing Irreducible Inconsistent Subsystem (IIS)...\n",
      "\n",
      "           Constraints          |            Bounds           |  Runtime\n",
      "      Min       Max     Guess   |   Min       Max     Guess   |\n",
      "--------------------------------------------------------------------------\n",
      "        0       130         -         0       362         -           0s\n",
      "        3         3         3         7         7         7           0s\n",
      "\n",
      "IIS computed: 3 constraints, 7 bounds\n",
      "IIS runtime: 0.08 seconds (0.06 work units)\n"
     ]
    }
   ],
   "source": [
    "def profit_maximization(n_nodes, n_alternative, O_demand, D_demand, b, bpr_a, bpr_b):\n",
    "    m = gp.Model()\n",
    "    m.Params.DualReductions = 0 # to determine if the model is infeasible or unbounded\n",
    "    #m.Params.OutputFlag = 0\n",
    "\n",
    "    m._O = list(range(1, len(O_demand)+1))\n",
    "    m._D = list(range(1, len(D_demand)+1))\n",
    "    m._b = b\n",
    "    m._nodes = list(range(1, n_nodes+1))\n",
    "    m._alternatives = list(range(1, n_alternative+1))\n",
    "    m._arcs = list(it.permutations(m._nodes, 2))\n",
    "    m._ods = [(id1+1, id2+1) for id1, o in enumerate(O_demand) for id2, d in enumerate(D_demand) if o>0 or d>0 if id1 != id2]\n",
    "\n",
    "    m._gvars = m.addVars(list(it.product(m._ods, m._alternatives)), vtype=gp.GRB.CONTINUOUS, lb=0, name='g')\n",
    "    m._fvars = m.addVars(list(it.product(m._arcs, m._ods, m._alternatives)), vtype=gp.GRB.CONTINUOUS, lb=0, name='f')\n",
    "    m._vvars = m.addVars(m._arcs, vtype=gp.GRB.CONTINUOUS, lb=0, name='v')\n",
    "\n",
    "    # create auxiliary variables to deal with non-linear objective function\n",
    "    m._lngvars = m.addVars(list(it.product(m._ods, m._alternatives)), vtype=gp.GRB.CONTINUOUS, name='lng')\n",
    "    m._profit_extracting = m.addVar(vtype=gp.GRB.CONTINUOUS, lb = 0, name='extracting')\n",
    "    m._profit_extracting_log = m.addVar(vtype=gp.GRB.CONTINUOUS, name='extracting_log')\n",
    "    m._bpr = m.addVars(m._arcs, vtype=gp.GRB.CONTINUOUS, name='extracting')\n",
    "\n",
    "    \"\"\"add constraints\"\"\"\n",
    "    # relationship between g and f\n",
    "    for j in m._alternatives:\n",
    "        for (s, t) in m._ods:\n",
    "            lhs = gp.quicksum(m._fvars[(u, v), (s, t), j] for (u, v) in m._arcs if u == s)\n",
    "            rhs = m._gvars[(s, t), j]\n",
    "            m.addConstr(lhs == rhs)\n",
    "\n",
    "    # satisfy origin demand\n",
    "    for idx, o in enumerate(m._O):\n",
    "        lhs = gp.quicksum(m._fvars[(u, v), (s, t), j] for (u, v) in m._arcs for (s, t) in m._ods for j in m._alternatives if u == o if s == o)\n",
    "        rhs = O_demand[idx]\n",
    "        m.addConstr(lhs == rhs)\n",
    "\n",
    "    # satisfy destin demand\n",
    "    for idx, d in enumerate(m._D):\n",
    "        lhs = gp.quicksum(m._fvars[(u, v), (s, t), j] for (u, v) in m._arcs for (s, t) in m._ods for j in m._alternatives if v == d if t != d)\n",
    "        rhs = D_demand[idx]\n",
    "        m.addConstr(lhs == rhs)\n",
    "\n",
    "    # flow conservation\n",
    "    for j in m._alternatives:\n",
    "        for (s, t) in m._ods:\n",
    "            for v in m._nodes:\n",
    "                if (v != s) and (v != t):\n",
    "                    lhs = gp.quicksum(m._fvars[(u, v) , (s, t), j] for u in m._nodes if u != v)\n",
    "                    rhs = gp.quicksum(m._fvars[(v, u) , (s, t), j] for u in m._nodes if u != v)\n",
    "                    m.addConstr(lhs == rhs)\n",
    "\n",
    "    # relationship to v_a\n",
    "    for a in m._arcs:\n",
    "        lhs = m._vvars[a]\n",
    "        rhs = gp.quicksum(m._fvars[a , (s, t), j] for (s, t) in m._ods for j in m._alternatives)\n",
    "        m.addConstr(lhs == rhs)\n",
    "\n",
    "    # objective function\n",
    "\n",
    "    for j in m._alternatives:\n",
    "        for (s, t) in m._ods:\n",
    "            m.addGenConstrLog(m._gvars[(s, t), j], m._lngvars[(s, t), j]) # TODO: set 0 if gvar = 0 \n",
    "\n",
    "    m.addConstr(m._profit_extracting == 1 - gp.quicksum(m._gvars[(s, t), j] for (s, t) in m._ods for j in m._alternatives)/sum(m._O))\n",
    "    m.addGenConstrLog(m._profit_extracting, m._profit_extracting_log)\n",
    "\n",
    "    # Choose more general bpr function\n",
    "    for a in m._arcs:\n",
    "        lhs = m._bpr[a]\n",
    "        rhs = 0.5 * bpr_a * m._vvars[a] * m._vvars[a] + bpr_b * m._vvars[a]\n",
    "        m.addConstr(lhs == rhs)\n",
    "        \n",
    "\n",
    "    m.setObjective(- gp.quicksum(m._gvars[(s, t), j]*m._b[(s, t), j] for (s, t) in m._ods for j in m._alternatives)\n",
    "                   + gp.quicksum(m._gvars[(s, t), j]*m._lngvars[(s, t), j] for (s, t) in m._ods for j in m._alternatives)\n",
    "                   - m._profit_extracting_log\n",
    "                   + gp.quicksum(m._bpr[a] for a in m._arcs)\n",
    "                   )\n",
    "\n",
    "\n",
    "    m.update()\n",
    "    m.optimize()\n",
    "\n",
    "    m.computeIIS() # this helps us to identify constraints that are responsible to make the model infeasible.\n",
    "    m.write(\"model.ilp\")\n",
    "\n",
    "    # if m.Status == 3:\n",
    "    #     return None\n",
    "    # else:\n",
    "    #     return m._fvars, m.ObjVal\n",
    "\n",
    "profit_maximization(n_nodes, n_alternative, O_demand, D_demand, b, bpr_a, bpr_b)"
   ]
  }
 ],
 "metadata": {
  "kernelspec": {
   "display_name": "Python 3",
   "language": "python",
   "name": "python3"
  },
  "language_info": {
   "codemirror_mode": {
    "name": "ipython",
    "version": 3
   },
   "file_extension": ".py",
   "mimetype": "text/x-python",
   "name": "python",
   "nbconvert_exporter": "python",
   "pygments_lexer": "ipython3",
   "version": "3.8.13"
  },
  "orig_nbformat": 4
 },
 "nbformat": 4,
 "nbformat_minor": 2
}
